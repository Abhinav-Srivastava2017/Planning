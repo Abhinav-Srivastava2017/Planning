{
 "cells": [
  {
   "cell_type": "markdown",
   "metadata": {},
   "source": [
    "# IDEAS\n",
    "1. If the custom reading speed for a book is set, take that for calculating the number of days or take the generic one asked during program execution\n",
    "2. If the custom number of times to read for a book is set, take that for calculating the number of days or take the generic one asked during program execution\n",
    "3. Do not set the target date to complete - let it tell you what the target completion date is for your selections\n",
    "4. Option to reselect the reading speed and run the function again to tell the target date"
   ]
  },
  {
   "cell_type": "markdown",
   "metadata": {},
   "source": [
    "# TODOS\n",
    "1. **DONE**: Remove the need to populate the excel file with dates. Add the dates from today or a custom date.\n",
    "2. **DONE**: Take the input of reading speed while running the program\n",
    "3. Add the column of reading speed in excel to set custom reading speed for each book\n",
    "4. Add the column of number of times to read a book - prompt for an input while starting program execution"
   ]
  },
  {
   "cell_type": "code",
   "execution_count": 6,
   "metadata": {},
   "outputs": [],
   "source": [
    "import pandas as pd\n",
    "import numpy as np\n",
    "import datetime"
   ]
  },
  {
   "cell_type": "code",
   "execution_count": 7,
   "metadata": {},
   "outputs": [],
   "source": [
    "weekday_reading_speed = int(input(\"Enter the reading speed on weekday:\"))\n",
    "weekend_reading_speed = int(input(\"Enter the reading speed on weekend:\"))"
   ]
  },
  {
   "cell_type": "code",
   "execution_count": 8,
   "metadata": {},
   "outputs": [
    {
     "name": "stdout",
     "output_type": "stream",
     "text": [
      "2\n"
     ]
    }
   ],
   "source": [
    "today = datetime.date.today()\n",
    "print(today.isoweekday())"
   ]
  },
  {
   "cell_type": "code",
   "execution_count": 9,
   "metadata": {},
   "outputs": [
    {
     "name": "stdout",
     "output_type": "stream",
     "text": [
      "2022-08-03\n"
     ]
    }
   ],
   "source": [
    "tomorrow = today + datetime.timedelta(days=1)\n",
    "print(tomorrow)"
   ]
  },
  {
   "cell_type": "code",
   "execution_count": 33,
   "metadata": {},
   "outputs": [
    {
     "name": "stdout",
     "output_type": "stream",
     "text": [
      "0\n"
     ]
    }
   ],
   "source": [
    "#todo abstract the implementation of the while with an iterator for the same\n",
    "list_of_dates = []\n",
    "while tomorrow < datetime.date(2023, 1, 1):\n",
    "    list_of_dates.append(tomorrow)\n",
    "    tomorrow += datetime.timedelta(days=1)\n",
    "print(len(list_of_dates))"
   ]
  },
  {
   "cell_type": "code",
   "execution_count": 11,
   "metadata": {},
   "outputs": [],
   "source": [
    "# days = pd.read_excel('Days.xlsx', sheet_name = 'Days', parse_dates=['Dates'])\n",
    "days = pd.DataFrame(list_of_dates, columns=[\"Date\"])"
   ]
  },
  {
   "cell_type": "code",
   "execution_count": 12,
   "metadata": {},
   "outputs": [
    {
     "data": {
      "text/html": [
       "<div>\n",
       "<style scoped>\n",
       "    .dataframe tbody tr th:only-of-type {\n",
       "        vertical-align: middle;\n",
       "    }\n",
       "\n",
       "    .dataframe tbody tr th {\n",
       "        vertical-align: top;\n",
       "    }\n",
       "\n",
       "    .dataframe thead th {\n",
       "        text-align: right;\n",
       "    }\n",
       "</style>\n",
       "<table border=\"1\" class=\"dataframe\">\n",
       "  <thead>\n",
       "    <tr style=\"text-align: right;\">\n",
       "      <th></th>\n",
       "      <th>Date</th>\n",
       "    </tr>\n",
       "  </thead>\n",
       "  <tbody>\n",
       "    <tr>\n",
       "      <th>0</th>\n",
       "      <td>2022-08-02</td>\n",
       "    </tr>\n",
       "    <tr>\n",
       "      <th>1</th>\n",
       "      <td>2022-08-03</td>\n",
       "    </tr>\n",
       "    <tr>\n",
       "      <th>2</th>\n",
       "      <td>2022-08-04</td>\n",
       "    </tr>\n",
       "    <tr>\n",
       "      <th>3</th>\n",
       "      <td>2022-08-05</td>\n",
       "    </tr>\n",
       "    <tr>\n",
       "      <th>4</th>\n",
       "      <td>2022-08-06</td>\n",
       "    </tr>\n",
       "  </tbody>\n",
       "</table>\n",
       "</div>"
      ],
      "text/plain": [
       "         Date\n",
       "0  2022-08-02\n",
       "1  2022-08-03\n",
       "2  2022-08-04\n",
       "3  2022-08-05\n",
       "4  2022-08-06"
      ]
     },
     "execution_count": 12,
     "metadata": {},
     "output_type": "execute_result"
    }
   ],
   "source": [
    "days.head()"
   ]
  },
  {
   "cell_type": "code",
   "execution_count": 13,
   "metadata": {},
   "outputs": [
    {
     "data": {
      "text/plain": [
       "Date    object\n",
       "dtype: object"
      ]
     },
     "execution_count": 13,
     "metadata": {},
     "output_type": "execute_result"
    }
   ],
   "source": [
    "days.dtypes"
   ]
  },
  {
   "cell_type": "code",
   "execution_count": 14,
   "metadata": {},
   "outputs": [
    {
     "data": {
      "text/plain": [
       "Date    datetime64[ns]\n",
       "dtype: object"
      ]
     },
     "execution_count": 14,
     "metadata": {},
     "output_type": "execute_result"
    }
   ],
   "source": [
    "days['Date'] = pd.to_datetime(days['Date'])\n",
    "days.dtypes"
   ]
  },
  {
   "cell_type": "code",
   "execution_count": 25,
   "metadata": {},
   "outputs": [
    {
     "data": {
      "text/html": [
       "<div>\n",
       "<style scoped>\n",
       "    .dataframe tbody tr th:only-of-type {\n",
       "        vertical-align: middle;\n",
       "    }\n",
       "\n",
       "    .dataframe tbody tr th {\n",
       "        vertical-align: top;\n",
       "    }\n",
       "\n",
       "    .dataframe thead th {\n",
       "        text-align: right;\n",
       "    }\n",
       "</style>\n",
       "<table border=\"1\" class=\"dataframe\">\n",
       "  <thead>\n",
       "    <tr style=\"text-align: right;\">\n",
       "      <th></th>\n",
       "      <th>Name</th>\n",
       "      <th>Class</th>\n",
       "      <th>Pages</th>\n",
       "    </tr>\n",
       "  </thead>\n",
       "  <tbody>\n",
       "    <tr>\n",
       "      <th>0</th>\n",
       "      <td>Macroeconomic Policy Environment - Shyamal Roy</td>\n",
       "      <td>NaN</td>\n",
       "      <td>126</td>\n",
       "    </tr>\n",
       "    <tr>\n",
       "      <th>1</th>\n",
       "      <td>Indian Economic Development</td>\n",
       "      <td>11.0</td>\n",
       "      <td>198</td>\n",
       "    </tr>\n",
       "    <tr>\n",
       "      <th>2</th>\n",
       "      <td>Indian Art and Culture - Nitin Singhania</td>\n",
       "      <td>NaN</td>\n",
       "      <td>532</td>\n",
       "    </tr>\n",
       "  </tbody>\n",
       "</table>\n",
       "</div>"
      ],
      "text/plain": [
       "                                             Name  Class  Pages\n",
       "0  Macroeconomic Policy Environment - Shyamal Roy    NaN    126\n",
       "1                     Indian Economic Development   11.0    198\n",
       "2        Indian Art and Culture - Nitin Singhania    NaN    532"
      ]
     },
     "execution_count": 25,
     "metadata": {},
     "output_type": "execute_result"
    }
   ],
   "source": [
    "books = pd.read_excel('Days.xlsx', sheet_name='Books')\n",
    "books.head()"
   ]
  },
  {
   "cell_type": "code",
   "execution_count": 121,
   "metadata": {},
   "outputs": [],
   "source": [
    "workdays = ['Monday', 'Tuesday', 'Wednesday', 'Thursday', 'Friday']\n",
    "weekends = ['Saturday', 'Sunday']"
   ]
  },
  {
   "cell_type": "code",
   "execution_count": 21,
   "metadata": {},
   "outputs": [],
   "source": [
    "def pages(day: datetime.date):\n",
    "    day_of_week = day.isoweekday()\n",
    "    if day_of_week < 6:\n",
    "        return weekday_reading_speed\n",
    "    return weekend_reading_speed"
   ]
  },
  {
   "cell_type": "code",
   "execution_count": 22,
   "metadata": {},
   "outputs": [
    {
     "data": {
      "text/plain": [
       "40"
      ]
     },
     "execution_count": 22,
     "metadata": {},
     "output_type": "execute_result"
    }
   ],
   "source": [
    "# pages(days.iloc[[0]].Weekdays[0])\n",
    "pages(days.iat[0,0])"
   ]
  },
  {
   "cell_type": "code",
   "execution_count": 23,
   "metadata": {},
   "outputs": [
    {
     "data": {
      "text/plain": [
       "Date      datetime64[ns]\n",
       "Target             int64\n",
       "Book              object\n",
       "Class              int64\n",
       "dtype: object"
      ]
     },
     "execution_count": 23,
     "metadata": {},
     "output_type": "execute_result"
    }
   ],
   "source": [
    "days.dtypes"
   ]
  },
  {
   "cell_type": "code",
   "execution_count": 18,
   "metadata": {},
   "outputs": [
    {
     "data": {
      "text/html": [
       "<div>\n",
       "<style scoped>\n",
       "    .dataframe tbody tr th:only-of-type {\n",
       "        vertical-align: middle;\n",
       "    }\n",
       "\n",
       "    .dataframe tbody tr th {\n",
       "        vertical-align: top;\n",
       "    }\n",
       "\n",
       "    .dataframe thead th {\n",
       "        text-align: right;\n",
       "    }\n",
       "</style>\n",
       "<table border=\"1\" class=\"dataframe\">\n",
       "  <thead>\n",
       "    <tr style=\"text-align: right;\">\n",
       "      <th></th>\n",
       "      <th>Date</th>\n",
       "      <th>Target</th>\n",
       "      <th>Book</th>\n",
       "      <th>Class</th>\n",
       "    </tr>\n",
       "  </thead>\n",
       "  <tbody>\n",
       "    <tr>\n",
       "      <th>0</th>\n",
       "      <td>2022-08-02</td>\n",
       "      <td>0</td>\n",
       "      <td></td>\n",
       "      <td>0</td>\n",
       "    </tr>\n",
       "    <tr>\n",
       "      <th>1</th>\n",
       "      <td>2022-08-03</td>\n",
       "      <td>0</td>\n",
       "      <td></td>\n",
       "      <td>0</td>\n",
       "    </tr>\n",
       "    <tr>\n",
       "      <th>2</th>\n",
       "      <td>2022-08-04</td>\n",
       "      <td>0</td>\n",
       "      <td></td>\n",
       "      <td>0</td>\n",
       "    </tr>\n",
       "    <tr>\n",
       "      <th>3</th>\n",
       "      <td>2022-08-05</td>\n",
       "      <td>0</td>\n",
       "      <td></td>\n",
       "      <td>0</td>\n",
       "    </tr>\n",
       "    <tr>\n",
       "      <th>4</th>\n",
       "      <td>2022-08-06</td>\n",
       "      <td>0</td>\n",
       "      <td></td>\n",
       "      <td>0</td>\n",
       "    </tr>\n",
       "  </tbody>\n",
       "</table>\n",
       "</div>"
      ],
      "text/plain": [
       "        Date  Target Book  Class\n",
       "0 2022-08-02       0           0\n",
       "1 2022-08-03       0           0\n",
       "2 2022-08-04       0           0\n",
       "3 2022-08-05       0           0\n",
       "4 2022-08-06       0           0"
      ]
     },
     "execution_count": 18,
     "metadata": {},
     "output_type": "execute_result"
    }
   ],
   "source": [
    "days['Target'] = 0\n",
    "days['Book'] = ''\n",
    "days['Class'] = 0\n",
    "days.head()"
   ]
  },
  {
   "cell_type": "code",
   "execution_count": 26,
   "metadata": {},
   "outputs": [
    {
     "name": "stdout",
     "output_type": "stream",
     "text": [
      "Allocated Successfully!\n",
      "Total Pages = 856\n",
      "Total Days Required at Current Speed = 22\n"
     ]
    }
   ],
   "source": [
    "currDay = 0\n",
    "targetPerDay = []\n",
    "bookPerDay = []\n",
    "classPerDay = []\n",
    "for bookNumber in books.index:\n",
    "    book = books.loc[bookNumber]\n",
    "    pagesRemaining = book.Pages\n",
    "    # print(type(pagesRemaining))\n",
    "    # print(pagesRemaining)\n",
    "    # print(pagesRemaining - 20)\n",
    "    # break\n",
    "    while pagesRemaining > 0 and currDay <= len(days):\n",
    "        day = days.loc[currDay]\n",
    "        targetPerDay.append(pages(day.Date) if pages(day.Date) < pagesRemaining else pagesRemaining)\n",
    "        bookPerDay.append(book.Name)\n",
    "        classPerDay.append(book.Class)\n",
    "        pagesRemaining -= targetPerDay[-1]\n",
    "        currDay += 1\n",
    "    if pagesRemaining != 0:\n",
    "        print('Cannot allocate all books. Increase the number of pages covered in each day')\n",
    "        break\n",
    "else:\n",
    "    print('Allocated Successfully!')\n",
    "    print('Total Pages =', sum(targetPerDay))\n",
    "    print('Total Days Required at Current Speed =', len(targetPerDay))\n",
    "    \n",
    "    "
   ]
  },
  {
   "cell_type": "code",
   "execution_count": 27,
   "metadata": {},
   "outputs": [],
   "source": [
    "if len(targetPerDay) < len(days):\n",
    "    diff = len(days) - len(targetPerDay)\n",
    "    for item in [targetPerDay, bookPerDay, classPerDay]:\n",
    "        item.extend([None]*diff)"
   ]
  },
  {
   "cell_type": "code",
   "execution_count": 28,
   "metadata": {},
   "outputs": [
    {
     "name": "stdout",
     "output_type": "stream",
     "text": [
      "152 152 152\n"
     ]
    }
   ],
   "source": [
    "print(len(targetPerDay), len(bookPerDay), len(classPerDay))"
   ]
  },
  {
   "cell_type": "code",
   "execution_count": 29,
   "metadata": {},
   "outputs": [
    {
     "data": {
      "text/html": [
       "<div>\n",
       "<style scoped>\n",
       "    .dataframe tbody tr th:only-of-type {\n",
       "        vertical-align: middle;\n",
       "    }\n",
       "\n",
       "    .dataframe tbody tr th {\n",
       "        vertical-align: top;\n",
       "    }\n",
       "\n",
       "    .dataframe thead th {\n",
       "        text-align: right;\n",
       "    }\n",
       "</style>\n",
       "<table border=\"1\" class=\"dataframe\">\n",
       "  <thead>\n",
       "    <tr style=\"text-align: right;\">\n",
       "      <th></th>\n",
       "      <th>Date</th>\n",
       "      <th>Target</th>\n",
       "      <th>Book</th>\n",
       "      <th>Class</th>\n",
       "    </tr>\n",
       "  </thead>\n",
       "  <tbody>\n",
       "    <tr>\n",
       "      <th>0</th>\n",
       "      <td>2022-08-02</td>\n",
       "      <td>40.0</td>\n",
       "      <td>Macroeconomic Policy Environment - Shyamal Roy</td>\n",
       "      <td>NaN</td>\n",
       "    </tr>\n",
       "    <tr>\n",
       "      <th>1</th>\n",
       "      <td>2022-08-03</td>\n",
       "      <td>40.0</td>\n",
       "      <td>Macroeconomic Policy Environment - Shyamal Roy</td>\n",
       "      <td>NaN</td>\n",
       "    </tr>\n",
       "    <tr>\n",
       "      <th>2</th>\n",
       "      <td>2022-08-04</td>\n",
       "      <td>40.0</td>\n",
       "      <td>Macroeconomic Policy Environment - Shyamal Roy</td>\n",
       "      <td>NaN</td>\n",
       "    </tr>\n",
       "    <tr>\n",
       "      <th>3</th>\n",
       "      <td>2022-08-05</td>\n",
       "      <td>6.0</td>\n",
       "      <td>Macroeconomic Policy Environment - Shyamal Roy</td>\n",
       "      <td>NaN</td>\n",
       "    </tr>\n",
       "    <tr>\n",
       "      <th>4</th>\n",
       "      <td>2022-08-06</td>\n",
       "      <td>50.0</td>\n",
       "      <td>Indian Economic Development</td>\n",
       "      <td>11.0</td>\n",
       "    </tr>\n",
       "  </tbody>\n",
       "</table>\n",
       "</div>"
      ],
      "text/plain": [
       "        Date  Target                                            Book  Class\n",
       "0 2022-08-02    40.0  Macroeconomic Policy Environment - Shyamal Roy    NaN\n",
       "1 2022-08-03    40.0  Macroeconomic Policy Environment - Shyamal Roy    NaN\n",
       "2 2022-08-04    40.0  Macroeconomic Policy Environment - Shyamal Roy    NaN\n",
       "3 2022-08-05     6.0  Macroeconomic Policy Environment - Shyamal Roy    NaN\n",
       "4 2022-08-06    50.0                     Indian Economic Development   11.0"
      ]
     },
     "execution_count": 29,
     "metadata": {},
     "output_type": "execute_result"
    }
   ],
   "source": [
    "days.Target = targetPerDay\n",
    "days.Book = bookPerDay\n",
    "days.Class = classPerDay\n",
    "days.head()"
   ]
  },
  {
   "cell_type": "code",
   "execution_count": 31,
   "metadata": {},
   "outputs": [],
   "source": [
    "days.Date = days.Date.apply(lambda x: x.strftime('%d-%m-%Y'))"
   ]
  },
  {
   "cell_type": "code",
   "execution_count": 32,
   "metadata": {},
   "outputs": [
    {
     "data": {
      "text/html": [
       "<div>\n",
       "<style scoped>\n",
       "    .dataframe tbody tr th:only-of-type {\n",
       "        vertical-align: middle;\n",
       "    }\n",
       "\n",
       "    .dataframe tbody tr th {\n",
       "        vertical-align: top;\n",
       "    }\n",
       "\n",
       "    .dataframe thead th {\n",
       "        text-align: right;\n",
       "    }\n",
       "</style>\n",
       "<table border=\"1\" class=\"dataframe\">\n",
       "  <thead>\n",
       "    <tr style=\"text-align: right;\">\n",
       "      <th></th>\n",
       "      <th>Date</th>\n",
       "      <th>Target</th>\n",
       "      <th>Book</th>\n",
       "      <th>Class</th>\n",
       "    </tr>\n",
       "  </thead>\n",
       "  <tbody>\n",
       "    <tr>\n",
       "      <th>0</th>\n",
       "      <td>02-08-2022</td>\n",
       "      <td>40.0</td>\n",
       "      <td>Macroeconomic Policy Environment - Shyamal Roy</td>\n",
       "      <td>NaN</td>\n",
       "    </tr>\n",
       "    <tr>\n",
       "      <th>1</th>\n",
       "      <td>03-08-2022</td>\n",
       "      <td>40.0</td>\n",
       "      <td>Macroeconomic Policy Environment - Shyamal Roy</td>\n",
       "      <td>NaN</td>\n",
       "    </tr>\n",
       "    <tr>\n",
       "      <th>2</th>\n",
       "      <td>04-08-2022</td>\n",
       "      <td>40.0</td>\n",
       "      <td>Macroeconomic Policy Environment - Shyamal Roy</td>\n",
       "      <td>NaN</td>\n",
       "    </tr>\n",
       "    <tr>\n",
       "      <th>3</th>\n",
       "      <td>05-08-2022</td>\n",
       "      <td>6.0</td>\n",
       "      <td>Macroeconomic Policy Environment - Shyamal Roy</td>\n",
       "      <td>NaN</td>\n",
       "    </tr>\n",
       "    <tr>\n",
       "      <th>4</th>\n",
       "      <td>06-08-2022</td>\n",
       "      <td>50.0</td>\n",
       "      <td>Indian Economic Development</td>\n",
       "      <td>11.0</td>\n",
       "    </tr>\n",
       "  </tbody>\n",
       "</table>\n",
       "</div>"
      ],
      "text/plain": [
       "         Date  Target                                            Book  Class\n",
       "0  02-08-2022    40.0  Macroeconomic Policy Environment - Shyamal Roy    NaN\n",
       "1  03-08-2022    40.0  Macroeconomic Policy Environment - Shyamal Roy    NaN\n",
       "2  04-08-2022    40.0  Macroeconomic Policy Environment - Shyamal Roy    NaN\n",
       "3  05-08-2022     6.0  Macroeconomic Policy Environment - Shyamal Roy    NaN\n",
       "4  06-08-2022    50.0                     Indian Economic Development   11.0"
      ]
     },
     "execution_count": 32,
     "metadata": {},
     "output_type": "execute_result"
    }
   ],
   "source": [
    "days.head()"
   ]
  },
  {
   "cell_type": "code",
   "execution_count": 141,
   "metadata": {},
   "outputs": [],
   "source": [
    "with pd.ExcelWriter('Days.xlsx', mode='a', if_sheet_exists='replace') as writer:\n",
    "    days.to_excel(writer, sheet_name='Plan')"
   ]
  }
 ],
 "metadata": {
  "interpreter": {
   "hash": "31f2aee4e71d21fbe5cf8b01ff0e069b9275f58929596ceb00d14d90e3e16cd6"
  },
  "kernelspec": {
   "display_name": "Python 3.8.10 64-bit",
   "name": "python3"
  },
  "language_info": {
   "codemirror_mode": {
    "name": "ipython",
    "version": 3
   },
   "file_extension": ".py",
   "mimetype": "text/x-python",
   "name": "python",
   "nbconvert_exporter": "python",
   "pygments_lexer": "ipython3",
   "version": "3.8.10"
  },
  "orig_nbformat": 4
 },
 "nbformat": 4,
 "nbformat_minor": 2
}
