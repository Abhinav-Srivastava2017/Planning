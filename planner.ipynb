{
 "cells": [
  {
   "cell_type": "markdown",
   "metadata": {},
   "source": [
    "# IDEAS\n",
    "1. If the custom reading speed for a book is set, take that for calculating the number of days or take the generic one asked during program execution\n",
    "2. If the custom number of times to read for a book is set, take that for calculating the number of days or take the generic one asked during program execution"
   ]
  },
  {
   "cell_type": "markdown",
   "metadata": {},
   "source": [
    "# TODOS\n",
    "1. Remove the need to populate the excel file with dates. Add the dates from today or a custom date.\n",
    "2. Take the input of reading speed while running the program\n",
    "3. Add the column of reading speed in excel to set custom reading speed for each book\n",
    "4. Add the column of number of times to read a book - prompt for an input while starting program execution"
   ]
  },
  {
   "cell_type": "code",
   "execution_count": 6,
   "metadata": {},
   "outputs": [],
   "source": [
    "import pandas as pd\n",
    "import numpy as np\n",
    "import datetime"
   ]
  },
  {
   "cell_type": "code",
   "execution_count": 12,
   "metadata": {},
   "outputs": [
    {
     "name": "stdout",
     "output_type": "stream",
     "text": [
      "7\n"
     ]
    }
   ],
   "source": [
    "today = datetime.date.today()\n",
    "print(today.isoweekday())"
   ]
  },
  {
   "cell_type": "code",
   "execution_count": 13,
   "metadata": {},
   "outputs": [
    {
     "name": "stdout",
     "output_type": "stream",
     "text": [
      "2022-08-01\n"
     ]
    }
   ],
   "source": [
    "tomorrow = today + datetime.timedelta(days=1)\n",
    "print(tomorrow)"
   ]
  },
  {
   "cell_type": "code",
   "execution_count": 14,
   "metadata": {},
   "outputs": [
    {
     "name": "stdout",
     "output_type": "stream",
     "text": [
      "154\n"
     ]
    }
   ],
   "source": [
    "#todo abstract the implementation of the while with an iterator for the same\n",
    "list_of_dates = [today]\n",
    "while tomorrow < datetime.date(2023, 1, 1):\n",
    "    list_of_dates.append(tomorrow)\n",
    "    tomorrow += datetime.timedelta(days=1)\n",
    "print(len(list_of_dates))"
   ]
  },
  {
   "cell_type": "code",
   "execution_count": 118,
   "metadata": {},
   "outputs": [],
   "source": [
    "days = pd.read_excel('Days.xlsx', sheet_name = 'Days', parse_dates=['Dates'])"
   ]
  },
  {
   "cell_type": "code",
   "execution_count": 119,
   "metadata": {},
   "outputs": [
    {
     "data": {
      "text/html": [
       "<div>\n",
       "<style scoped>\n",
       "    .dataframe tbody tr th:only-of-type {\n",
       "        vertical-align: middle;\n",
       "    }\n",
       "\n",
       "    .dataframe tbody tr th {\n",
       "        vertical-align: top;\n",
       "    }\n",
       "\n",
       "    .dataframe thead th {\n",
       "        text-align: right;\n",
       "    }\n",
       "</style>\n",
       "<table border=\"1\" class=\"dataframe\">\n",
       "  <thead>\n",
       "    <tr style=\"text-align: right;\">\n",
       "      <th></th>\n",
       "      <th>Dates</th>\n",
       "      <th>Weekdays</th>\n",
       "    </tr>\n",
       "  </thead>\n",
       "  <tbody>\n",
       "    <tr>\n",
       "      <th>0</th>\n",
       "      <td>2021-10-15</td>\n",
       "      <td>Friday</td>\n",
       "    </tr>\n",
       "    <tr>\n",
       "      <th>1</th>\n",
       "      <td>2021-10-16</td>\n",
       "      <td>Saturday</td>\n",
       "    </tr>\n",
       "    <tr>\n",
       "      <th>2</th>\n",
       "      <td>2021-10-17</td>\n",
       "      <td>Sunday</td>\n",
       "    </tr>\n",
       "    <tr>\n",
       "      <th>3</th>\n",
       "      <td>2021-10-18</td>\n",
       "      <td>Monday</td>\n",
       "    </tr>\n",
       "    <tr>\n",
       "      <th>4</th>\n",
       "      <td>2021-10-19</td>\n",
       "      <td>Tuesday</td>\n",
       "    </tr>\n",
       "  </tbody>\n",
       "</table>\n",
       "</div>"
      ],
      "text/plain": [
       "       Dates  Weekdays\n",
       "0 2021-10-15    Friday\n",
       "1 2021-10-16  Saturday\n",
       "2 2021-10-17    Sunday\n",
       "3 2021-10-18    Monday\n",
       "4 2021-10-19   Tuesday"
      ]
     },
     "execution_count": 119,
     "metadata": {},
     "output_type": "execute_result"
    }
   ],
   "source": [
    "days.head()"
   ]
  },
  {
   "cell_type": "code",
   "execution_count": 120,
   "metadata": {},
   "outputs": [
    {
     "data": {
      "text/html": [
       "<div>\n",
       "<style scoped>\n",
       "    .dataframe tbody tr th:only-of-type {\n",
       "        vertical-align: middle;\n",
       "    }\n",
       "\n",
       "    .dataframe tbody tr th {\n",
       "        vertical-align: top;\n",
       "    }\n",
       "\n",
       "    .dataframe thead th {\n",
       "        text-align: right;\n",
       "    }\n",
       "</style>\n",
       "<table border=\"1\" class=\"dataframe\">\n",
       "  <thead>\n",
       "    <tr style=\"text-align: right;\">\n",
       "      <th></th>\n",
       "      <th>Name</th>\n",
       "      <th>Class</th>\n",
       "      <th>Pages</th>\n",
       "    </tr>\n",
       "  </thead>\n",
       "  <tbody>\n",
       "    <tr>\n",
       "      <th>0</th>\n",
       "      <td>Geography of India</td>\n",
       "      <td>10.0</td>\n",
       "      <td>166</td>\n",
       "    </tr>\n",
       "    <tr>\n",
       "      <th>1</th>\n",
       "      <td>Economic Geography</td>\n",
       "      <td>10.0</td>\n",
       "      <td>144</td>\n",
       "    </tr>\n",
       "    <tr>\n",
       "      <th>2</th>\n",
       "      <td>Principles of Geography - 1</td>\n",
       "      <td>11.0</td>\n",
       "      <td>195</td>\n",
       "    </tr>\n",
       "    <tr>\n",
       "      <th>3</th>\n",
       "      <td>Principles of Geography - 2</td>\n",
       "      <td>11.0</td>\n",
       "      <td>148</td>\n",
       "    </tr>\n",
       "    <tr>\n",
       "      <th>4</th>\n",
       "      <td>India: A Generational Geography</td>\n",
       "      <td>12.0</td>\n",
       "      <td>161</td>\n",
       "    </tr>\n",
       "  </tbody>\n",
       "</table>\n",
       "</div>"
      ],
      "text/plain": [
       "                              Name  Class  Pages\n",
       "0               Geography of India   10.0    166\n",
       "1               Economic Geography   10.0    144\n",
       "2      Principles of Geography - 1   11.0    195\n",
       "3      Principles of Geography - 2   11.0    148\n",
       "4  India: A Generational Geography   12.0    161"
      ]
     },
     "execution_count": 120,
     "metadata": {},
     "output_type": "execute_result"
    }
   ],
   "source": [
    "books = pd.read_excel('Days.xlsx', sheet_name='Books')\n",
    "books.head()"
   ]
  },
  {
   "cell_type": "code",
   "execution_count": 121,
   "metadata": {},
   "outputs": [],
   "source": [
    "workdays = ['Monday', 'Tuesday', 'Wednesday', 'Thursday', 'Friday']\n",
    "weekends = ['Saturday', 'Sunday']"
   ]
  },
  {
   "cell_type": "code",
   "execution_count": 122,
   "metadata": {},
   "outputs": [],
   "source": [
    "# Reading speed to be added.\n",
    "def pages(day: str): \n",
    "    if day in workdays:\n",
    "        return 30\n",
    "    return 60"
   ]
  },
  {
   "cell_type": "code",
   "execution_count": 123,
   "metadata": {},
   "outputs": [
    {
     "data": {
      "text/plain": [
       "30"
      ]
     },
     "execution_count": 123,
     "metadata": {},
     "output_type": "execute_result"
    }
   ],
   "source": [
    "pages(days.iloc[[0]].Weekdays[0])"
   ]
  },
  {
   "cell_type": "code",
   "execution_count": 124,
   "metadata": {},
   "outputs": [
    {
     "data": {
      "text/plain": [
       "Dates       datetime64[ns]\n",
       "Weekdays            object\n",
       "dtype: object"
      ]
     },
     "execution_count": 124,
     "metadata": {},
     "output_type": "execute_result"
    }
   ],
   "source": [
    "days.dtypes"
   ]
  },
  {
   "cell_type": "code",
   "execution_count": 125,
   "metadata": {},
   "outputs": [
    {
     "data": {
      "text/html": [
       "<div>\n",
       "<style scoped>\n",
       "    .dataframe tbody tr th:only-of-type {\n",
       "        vertical-align: middle;\n",
       "    }\n",
       "\n",
       "    .dataframe tbody tr th {\n",
       "        vertical-align: top;\n",
       "    }\n",
       "\n",
       "    .dataframe thead th {\n",
       "        text-align: right;\n",
       "    }\n",
       "</style>\n",
       "<table border=\"1\" class=\"dataframe\">\n",
       "  <thead>\n",
       "    <tr style=\"text-align: right;\">\n",
       "      <th></th>\n",
       "      <th>Dates</th>\n",
       "      <th>Weekdays</th>\n",
       "      <th>Target</th>\n",
       "      <th>Book</th>\n",
       "      <th>Class</th>\n",
       "    </tr>\n",
       "  </thead>\n",
       "  <tbody>\n",
       "    <tr>\n",
       "      <th>0</th>\n",
       "      <td>2021-10-15</td>\n",
       "      <td>Friday</td>\n",
       "      <td>0</td>\n",
       "      <td></td>\n",
       "      <td>0</td>\n",
       "    </tr>\n",
       "    <tr>\n",
       "      <th>1</th>\n",
       "      <td>2021-10-16</td>\n",
       "      <td>Saturday</td>\n",
       "      <td>0</td>\n",
       "      <td></td>\n",
       "      <td>0</td>\n",
       "    </tr>\n",
       "    <tr>\n",
       "      <th>2</th>\n",
       "      <td>2021-10-17</td>\n",
       "      <td>Sunday</td>\n",
       "      <td>0</td>\n",
       "      <td></td>\n",
       "      <td>0</td>\n",
       "    </tr>\n",
       "    <tr>\n",
       "      <th>3</th>\n",
       "      <td>2021-10-18</td>\n",
       "      <td>Monday</td>\n",
       "      <td>0</td>\n",
       "      <td></td>\n",
       "      <td>0</td>\n",
       "    </tr>\n",
       "    <tr>\n",
       "      <th>4</th>\n",
       "      <td>2021-10-19</td>\n",
       "      <td>Tuesday</td>\n",
       "      <td>0</td>\n",
       "      <td></td>\n",
       "      <td>0</td>\n",
       "    </tr>\n",
       "  </tbody>\n",
       "</table>\n",
       "</div>"
      ],
      "text/plain": [
       "       Dates  Weekdays  Target Book  Class\n",
       "0 2021-10-15    Friday       0           0\n",
       "1 2021-10-16  Saturday       0           0\n",
       "2 2021-10-17    Sunday       0           0\n",
       "3 2021-10-18    Monday       0           0\n",
       "4 2021-10-19   Tuesday       0           0"
      ]
     },
     "execution_count": 125,
     "metadata": {},
     "output_type": "execute_result"
    }
   ],
   "source": [
    "days['Target'] = 0\n",
    "days['Book'] = ''\n",
    "days['Class'] = 0\n",
    "days.head()"
   ]
  },
  {
   "cell_type": "code",
   "execution_count": 126,
   "metadata": {},
   "outputs": [
    {
     "name": "stdout",
     "output_type": "stream",
     "text": [
      "Allocated Successfully!\n",
      "Total Pages = 5116\n",
      "Total Days Required at Current Speed = 143\n"
     ]
    }
   ],
   "source": [
    "currDay = 0\n",
    "targetPerDay = []\n",
    "bookPerDay = []\n",
    "classPerDay = []\n",
    "for bookNumber in books.index:\n",
    "    book = books.loc[bookNumber]\n",
    "    pagesRemaining = book.Pages\n",
    "    # print(type(pagesRemaining))\n",
    "    # print(pagesRemaining)\n",
    "    # print(pagesRemaining - 20)\n",
    "    # break\n",
    "    while pagesRemaining > 0 and currDay <= len(days):\n",
    "        day = days.loc[currDay]\n",
    "        targetPerDay.append(pages(day.Weekdays) if pages(day.Weekdays) < pagesRemaining else pagesRemaining)\n",
    "        bookPerDay.append(book.Name)\n",
    "        classPerDay.append(book.Class)\n",
    "        pagesRemaining -= targetPerDay[-1]\n",
    "        currDay += 1\n",
    "    if pagesRemaining != 0:\n",
    "        print('Cannot allocate all books. Increase the number of pages covered in each day')\n",
    "        break\n",
    "else:\n",
    "    print('Allocated Successfully!')\n",
    "    print('Total Pages =', sum(targetPerDay))\n",
    "    print('Total Days Required at Current Speed =', len(targetPerDay))\n",
    "    \n",
    "    "
   ]
  },
  {
   "cell_type": "code",
   "execution_count": 127,
   "metadata": {},
   "outputs": [],
   "source": [
    "if len(targetPerDay) < len(days):\n",
    "    diff = len(days) - len(targetPerDay)\n",
    "    for item in [targetPerDay, bookPerDay, classPerDay]:\n",
    "        item.extend([None]*diff)"
   ]
  },
  {
   "cell_type": "code",
   "execution_count": 128,
   "metadata": {},
   "outputs": [
    {
     "name": "stdout",
     "output_type": "stream",
     "text": [
      "229 229 229\n"
     ]
    }
   ],
   "source": [
    "print(len(targetPerDay), len(bookPerDay), len(classPerDay))"
   ]
  },
  {
   "cell_type": "code",
   "execution_count": 129,
   "metadata": {},
   "outputs": [
    {
     "data": {
      "text/html": [
       "<div>\n",
       "<style scoped>\n",
       "    .dataframe tbody tr th:only-of-type {\n",
       "        vertical-align: middle;\n",
       "    }\n",
       "\n",
       "    .dataframe tbody tr th {\n",
       "        vertical-align: top;\n",
       "    }\n",
       "\n",
       "    .dataframe thead th {\n",
       "        text-align: right;\n",
       "    }\n",
       "</style>\n",
       "<table border=\"1\" class=\"dataframe\">\n",
       "  <thead>\n",
       "    <tr style=\"text-align: right;\">\n",
       "      <th></th>\n",
       "      <th>Dates</th>\n",
       "      <th>Weekdays</th>\n",
       "      <th>Target</th>\n",
       "      <th>Book</th>\n",
       "      <th>Class</th>\n",
       "    </tr>\n",
       "  </thead>\n",
       "  <tbody>\n",
       "    <tr>\n",
       "      <th>0</th>\n",
       "      <td>2021-10-15</td>\n",
       "      <td>Friday</td>\n",
       "      <td>30.0</td>\n",
       "      <td>Geography of India</td>\n",
       "      <td>10.0</td>\n",
       "    </tr>\n",
       "    <tr>\n",
       "      <th>1</th>\n",
       "      <td>2021-10-16</td>\n",
       "      <td>Saturday</td>\n",
       "      <td>60.0</td>\n",
       "      <td>Geography of India</td>\n",
       "      <td>10.0</td>\n",
       "    </tr>\n",
       "    <tr>\n",
       "      <th>2</th>\n",
       "      <td>2021-10-17</td>\n",
       "      <td>Sunday</td>\n",
       "      <td>60.0</td>\n",
       "      <td>Geography of India</td>\n",
       "      <td>10.0</td>\n",
       "    </tr>\n",
       "    <tr>\n",
       "      <th>3</th>\n",
       "      <td>2021-10-18</td>\n",
       "      <td>Monday</td>\n",
       "      <td>16.0</td>\n",
       "      <td>Geography of India</td>\n",
       "      <td>10.0</td>\n",
       "    </tr>\n",
       "    <tr>\n",
       "      <th>4</th>\n",
       "      <td>2021-10-19</td>\n",
       "      <td>Tuesday</td>\n",
       "      <td>30.0</td>\n",
       "      <td>Economic Geography</td>\n",
       "      <td>10.0</td>\n",
       "    </tr>\n",
       "  </tbody>\n",
       "</table>\n",
       "</div>"
      ],
      "text/plain": [
       "       Dates  Weekdays  Target                Book  Class\n",
       "0 2021-10-15    Friday    30.0  Geography of India   10.0\n",
       "1 2021-10-16  Saturday    60.0  Geography of India   10.0\n",
       "2 2021-10-17    Sunday    60.0  Geography of India   10.0\n",
       "3 2021-10-18    Monday    16.0  Geography of India   10.0\n",
       "4 2021-10-19   Tuesday    30.0  Economic Geography   10.0"
      ]
     },
     "execution_count": 129,
     "metadata": {},
     "output_type": "execute_result"
    }
   ],
   "source": [
    "days.Target = targetPerDay\n",
    "days.Book = bookPerDay\n",
    "days.Class = classPerDay\n",
    "days.head()"
   ]
  },
  {
   "cell_type": "code",
   "execution_count": 137,
   "metadata": {},
   "outputs": [],
   "source": [
    "days.Dates = days.Dates.apply(lambda x: x.strftime('%d-%m-%Y'))"
   ]
  },
  {
   "cell_type": "code",
   "execution_count": 138,
   "metadata": {},
   "outputs": [
    {
     "data": {
      "text/html": [
       "<div>\n",
       "<style scoped>\n",
       "    .dataframe tbody tr th:only-of-type {\n",
       "        vertical-align: middle;\n",
       "    }\n",
       "\n",
       "    .dataframe tbody tr th {\n",
       "        vertical-align: top;\n",
       "    }\n",
       "\n",
       "    .dataframe thead th {\n",
       "        text-align: right;\n",
       "    }\n",
       "</style>\n",
       "<table border=\"1\" class=\"dataframe\">\n",
       "  <thead>\n",
       "    <tr style=\"text-align: right;\">\n",
       "      <th></th>\n",
       "      <th>Dates</th>\n",
       "      <th>Weekdays</th>\n",
       "      <th>Target</th>\n",
       "      <th>Book</th>\n",
       "      <th>Class</th>\n",
       "    </tr>\n",
       "  </thead>\n",
       "  <tbody>\n",
       "    <tr>\n",
       "      <th>0</th>\n",
       "      <td>15-10-2021</td>\n",
       "      <td>Friday</td>\n",
       "      <td>30.0</td>\n",
       "      <td>Geography of India</td>\n",
       "      <td>10.0</td>\n",
       "    </tr>\n",
       "    <tr>\n",
       "      <th>1</th>\n",
       "      <td>16-10-2021</td>\n",
       "      <td>Saturday</td>\n",
       "      <td>60.0</td>\n",
       "      <td>Geography of India</td>\n",
       "      <td>10.0</td>\n",
       "    </tr>\n",
       "    <tr>\n",
       "      <th>2</th>\n",
       "      <td>17-10-2021</td>\n",
       "      <td>Sunday</td>\n",
       "      <td>60.0</td>\n",
       "      <td>Geography of India</td>\n",
       "      <td>10.0</td>\n",
       "    </tr>\n",
       "    <tr>\n",
       "      <th>3</th>\n",
       "      <td>18-10-2021</td>\n",
       "      <td>Monday</td>\n",
       "      <td>16.0</td>\n",
       "      <td>Geography of India</td>\n",
       "      <td>10.0</td>\n",
       "    </tr>\n",
       "    <tr>\n",
       "      <th>4</th>\n",
       "      <td>19-10-2021</td>\n",
       "      <td>Tuesday</td>\n",
       "      <td>30.0</td>\n",
       "      <td>Economic Geography</td>\n",
       "      <td>10.0</td>\n",
       "    </tr>\n",
       "  </tbody>\n",
       "</table>\n",
       "</div>"
      ],
      "text/plain": [
       "        Dates  Weekdays  Target                Book  Class\n",
       "0  15-10-2021    Friday    30.0  Geography of India   10.0\n",
       "1  16-10-2021  Saturday    60.0  Geography of India   10.0\n",
       "2  17-10-2021    Sunday    60.0  Geography of India   10.0\n",
       "3  18-10-2021    Monday    16.0  Geography of India   10.0\n",
       "4  19-10-2021   Tuesday    30.0  Economic Geography   10.0"
      ]
     },
     "execution_count": 138,
     "metadata": {},
     "output_type": "execute_result"
    }
   ],
   "source": [
    "days.head()"
   ]
  },
  {
   "cell_type": "code",
   "execution_count": 141,
   "metadata": {},
   "outputs": [],
   "source": [
    "with pd.ExcelWriter('Days.xlsx', mode='a', if_sheet_exists='replace') as writer:\n",
    "    days.to_excel(writer, sheet_name='Plan')"
   ]
  }
 ],
 "metadata": {
  "interpreter": {
   "hash": "31f2aee4e71d21fbe5cf8b01ff0e069b9275f58929596ceb00d14d90e3e16cd6"
  },
  "kernelspec": {
   "display_name": "Python 3.8.10 64-bit",
   "name": "python3"
  },
  "language_info": {
   "codemirror_mode": {
    "name": "ipython",
    "version": 3
   },
   "file_extension": ".py",
   "mimetype": "text/x-python",
   "name": "python",
   "nbconvert_exporter": "python",
   "pygments_lexer": "ipython3",
   "version": "3.8.10"
  },
  "orig_nbformat": 4
 },
 "nbformat": 4,
 "nbformat_minor": 2
}
